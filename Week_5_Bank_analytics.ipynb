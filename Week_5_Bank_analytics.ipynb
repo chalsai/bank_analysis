{
  "cells": [
    {
      "cell_type": "markdown",
      "metadata": {
        "id": "view-in-github",
        "colab_type": "text"
      },
      "source": [
        "<a href=\"https://colab.research.google.com/github/chalsai/bank_analysis/blob/main/Week_5_Bank_analytics.ipynb\" target=\"_parent\"><img src=\"https://colab.research.google.com/assets/colab-badge.svg\" alt=\"Open In Colab\"/></a>"
      ]
    },
    {
      "cell_type": "markdown",
      "metadata": {
        "id": "mqzB2xp9yWyA"
      },
      "source": [
        "# Project description\n",
        "Beta Bank customers are leaving: little by little, chipping away every month. The bankers figured out it’s cheaper to save the existing customers rather than to attract new ones.\n",
        "We need to predict whether a customer will leave the bank soon. You have the data on clients’ past behavior and termination of contracts with the bank.\n",
        "Build a model with the maximum possible F1 score. To pass the project, you need an F1 score of at least 0.59. Check the F1 for the test set.\n",
        "Additionally, measure the AUC-ROC metric and compare it with the F1.\n",
        "\n",
        "### Download and prepare the data. Explain the procedure."
      ]
    },
    {
      "cell_type": "code",
      "execution_count": 1,
      "metadata": {
        "id": "jCYzYT5QyWyD"
      },
      "outputs": [],
      "source": [
        "#Let us first import the relevant libraries\n",
        "import pandas as pd\n",
        "from sklearn.model_selection import train_test_split\n",
        "from sklearn.ensemble import RandomForestRegressor\n",
        "from sklearn.metrics import r2_score\n",
        "from joblib import dump\n",
        "from sklearn.metrics import mean_absolute_error\n",
        "from sklearn.linear_model import LinearRegression\n",
        "from sklearn.preprocessing import StandardScaler\n",
        "from sklearn.linear_model import LogisticRegression\n",
        "from sklearn.metrics import f1_score\n",
        "from sklearn.metrics import accuracy_score\n",
        "from sklearn.metrics import recall_score\n",
        "from sklearn.metrics import precision_score\n",
        "from sklearn.utils import resample\n",
        "from sklearn.metrics import roc_auc_score\n",
        "from sklearn.metrics import make_scorer\n",
        "from sklearn.utils import shuffle\n",
        "from sklearn.tree import DecisionTreeClassifier\n",
        "from sklearn.ensemble import RandomForestClassifier\n",
        "from sklearn.model_selection import GridSearchCV\n",
        "from sklearn.metrics import roc_curve\n",
        "import matplotlib.pyplot as plt\n",
        "from sklearn.metrics import precision_recall_curve"
      ]
    },
    {
      "cell_type": "code",
      "execution_count": 2,
      "metadata": {
        "colab": {
          "base_uri": "https://localhost:8080/",
          "height": 206
        },
        "id": "-hbV1Fw9yWyH",
        "outputId": "652dab15-6669-4c10-92a0-350dacf4b36f"
      },
      "outputs": [
        {
          "output_type": "execute_result",
          "data": {
            "text/plain": [
              "   RowNumber  CustomerId   Surname  CreditScore Geography  Gender  Age  \\\n",
              "0          1    15634602  Hargrave          619    France  Female   42   \n",
              "1          2    15647311      Hill          608     Spain  Female   41   \n",
              "2          3    15619304      Onio          502    France  Female   42   \n",
              "3          4    15701354      Boni          699    France  Female   39   \n",
              "4          5    15737888  Mitchell          850     Spain  Female   43   \n",
              "\n",
              "   Tenure    Balance  NumOfProducts  HasCrCard  IsActiveMember  \\\n",
              "0     2.0       0.00              1          1               1   \n",
              "1     1.0   83807.86              1          0               1   \n",
              "2     8.0  159660.80              3          1               0   \n",
              "3     1.0       0.00              2          0               0   \n",
              "4     2.0  125510.82              1          1               1   \n",
              "\n",
              "   EstimatedSalary  Exited  \n",
              "0        101348.88       1  \n",
              "1        112542.58       0  \n",
              "2        113931.57       1  \n",
              "3         93826.63       0  \n",
              "4         79084.10       0  "
            ],
            "text/html": [
              "\n",
              "  <div id=\"df-4baa9fc7-0f32-4c71-b5fe-da875bb2e870\">\n",
              "    <div class=\"colab-df-container\">\n",
              "      <div>\n",
              "<style scoped>\n",
              "    .dataframe tbody tr th:only-of-type {\n",
              "        vertical-align: middle;\n",
              "    }\n",
              "\n",
              "    .dataframe tbody tr th {\n",
              "        vertical-align: top;\n",
              "    }\n",
              "\n",
              "    .dataframe thead th {\n",
              "        text-align: right;\n",
              "    }\n",
              "</style>\n",
              "<table border=\"1\" class=\"dataframe\">\n",
              "  <thead>\n",
              "    <tr style=\"text-align: right;\">\n",
              "      <th></th>\n",
              "      <th>RowNumber</th>\n",
              "      <th>CustomerId</th>\n",
              "      <th>Surname</th>\n",
              "      <th>CreditScore</th>\n",
              "      <th>Geography</th>\n",
              "      <th>Gender</th>\n",
              "      <th>Age</th>\n",
              "      <th>Tenure</th>\n",
              "      <th>Balance</th>\n",
              "      <th>NumOfProducts</th>\n",
              "      <th>HasCrCard</th>\n",
              "      <th>IsActiveMember</th>\n",
              "      <th>EstimatedSalary</th>\n",
              "      <th>Exited</th>\n",
              "    </tr>\n",
              "  </thead>\n",
              "  <tbody>\n",
              "    <tr>\n",
              "      <th>0</th>\n",
              "      <td>1</td>\n",
              "      <td>15634602</td>\n",
              "      <td>Hargrave</td>\n",
              "      <td>619</td>\n",
              "      <td>France</td>\n",
              "      <td>Female</td>\n",
              "      <td>42</td>\n",
              "      <td>2.0</td>\n",
              "      <td>0.00</td>\n",
              "      <td>1</td>\n",
              "      <td>1</td>\n",
              "      <td>1</td>\n",
              "      <td>101348.88</td>\n",
              "      <td>1</td>\n",
              "    </tr>\n",
              "    <tr>\n",
              "      <th>1</th>\n",
              "      <td>2</td>\n",
              "      <td>15647311</td>\n",
              "      <td>Hill</td>\n",
              "      <td>608</td>\n",
              "      <td>Spain</td>\n",
              "      <td>Female</td>\n",
              "      <td>41</td>\n",
              "      <td>1.0</td>\n",
              "      <td>83807.86</td>\n",
              "      <td>1</td>\n",
              "      <td>0</td>\n",
              "      <td>1</td>\n",
              "      <td>112542.58</td>\n",
              "      <td>0</td>\n",
              "    </tr>\n",
              "    <tr>\n",
              "      <th>2</th>\n",
              "      <td>3</td>\n",
              "      <td>15619304</td>\n",
              "      <td>Onio</td>\n",
              "      <td>502</td>\n",
              "      <td>France</td>\n",
              "      <td>Female</td>\n",
              "      <td>42</td>\n",
              "      <td>8.0</td>\n",
              "      <td>159660.80</td>\n",
              "      <td>3</td>\n",
              "      <td>1</td>\n",
              "      <td>0</td>\n",
              "      <td>113931.57</td>\n",
              "      <td>1</td>\n",
              "    </tr>\n",
              "    <tr>\n",
              "      <th>3</th>\n",
              "      <td>4</td>\n",
              "      <td>15701354</td>\n",
              "      <td>Boni</td>\n",
              "      <td>699</td>\n",
              "      <td>France</td>\n",
              "      <td>Female</td>\n",
              "      <td>39</td>\n",
              "      <td>1.0</td>\n",
              "      <td>0.00</td>\n",
              "      <td>2</td>\n",
              "      <td>0</td>\n",
              "      <td>0</td>\n",
              "      <td>93826.63</td>\n",
              "      <td>0</td>\n",
              "    </tr>\n",
              "    <tr>\n",
              "      <th>4</th>\n",
              "      <td>5</td>\n",
              "      <td>15737888</td>\n",
              "      <td>Mitchell</td>\n",
              "      <td>850</td>\n",
              "      <td>Spain</td>\n",
              "      <td>Female</td>\n",
              "      <td>43</td>\n",
              "      <td>2.0</td>\n",
              "      <td>125510.82</td>\n",
              "      <td>1</td>\n",
              "      <td>1</td>\n",
              "      <td>1</td>\n",
              "      <td>79084.10</td>\n",
              "      <td>0</td>\n",
              "    </tr>\n",
              "  </tbody>\n",
              "</table>\n",
              "</div>\n",
              "      <button class=\"colab-df-convert\" onclick=\"convertToInteractive('df-4baa9fc7-0f32-4c71-b5fe-da875bb2e870')\"\n",
              "              title=\"Convert this dataframe to an interactive table.\"\n",
              "              style=\"display:none;\">\n",
              "        \n",
              "  <svg xmlns=\"http://www.w3.org/2000/svg\" height=\"24px\"viewBox=\"0 0 24 24\"\n",
              "       width=\"24px\">\n",
              "    <path d=\"M0 0h24v24H0V0z\" fill=\"none\"/>\n",
              "    <path d=\"M18.56 5.44l.94 2.06.94-2.06 2.06-.94-2.06-.94-.94-2.06-.94 2.06-2.06.94zm-11 1L8.5 8.5l.94-2.06 2.06-.94-2.06-.94L8.5 2.5l-.94 2.06-2.06.94zm10 10l.94 2.06.94-2.06 2.06-.94-2.06-.94-.94-2.06-.94 2.06-2.06.94z\"/><path d=\"M17.41 7.96l-1.37-1.37c-.4-.4-.92-.59-1.43-.59-.52 0-1.04.2-1.43.59L10.3 9.45l-7.72 7.72c-.78.78-.78 2.05 0 2.83L4 21.41c.39.39.9.59 1.41.59.51 0 1.02-.2 1.41-.59l7.78-7.78 2.81-2.81c.8-.78.8-2.07 0-2.86zM5.41 20L4 18.59l7.72-7.72 1.47 1.35L5.41 20z\"/>\n",
              "  </svg>\n",
              "      </button>\n",
              "      \n",
              "  <style>\n",
              "    .colab-df-container {\n",
              "      display:flex;\n",
              "      flex-wrap:wrap;\n",
              "      gap: 12px;\n",
              "    }\n",
              "\n",
              "    .colab-df-convert {\n",
              "      background-color: #E8F0FE;\n",
              "      border: none;\n",
              "      border-radius: 50%;\n",
              "      cursor: pointer;\n",
              "      display: none;\n",
              "      fill: #1967D2;\n",
              "      height: 32px;\n",
              "      padding: 0 0 0 0;\n",
              "      width: 32px;\n",
              "    }\n",
              "\n",
              "    .colab-df-convert:hover {\n",
              "      background-color: #E2EBFA;\n",
              "      box-shadow: 0px 1px 2px rgba(60, 64, 67, 0.3), 0px 1px 3px 1px rgba(60, 64, 67, 0.15);\n",
              "      fill: #174EA6;\n",
              "    }\n",
              "\n",
              "    [theme=dark] .colab-df-convert {\n",
              "      background-color: #3B4455;\n",
              "      fill: #D2E3FC;\n",
              "    }\n",
              "\n",
              "    [theme=dark] .colab-df-convert:hover {\n",
              "      background-color: #434B5C;\n",
              "      box-shadow: 0px 1px 3px 1px rgba(0, 0, 0, 0.15);\n",
              "      filter: drop-shadow(0px 1px 2px rgba(0, 0, 0, 0.3));\n",
              "      fill: #FFFFFF;\n",
              "    }\n",
              "  </style>\n",
              "\n",
              "      <script>\n",
              "        const buttonEl =\n",
              "          document.querySelector('#df-4baa9fc7-0f32-4c71-b5fe-da875bb2e870 button.colab-df-convert');\n",
              "        buttonEl.style.display =\n",
              "          google.colab.kernel.accessAllowed ? 'block' : 'none';\n",
              "\n",
              "        async function convertToInteractive(key) {\n",
              "          const element = document.querySelector('#df-4baa9fc7-0f32-4c71-b5fe-da875bb2e870');\n",
              "          const dataTable =\n",
              "            await google.colab.kernel.invokeFunction('convertToInteractive',\n",
              "                                                     [key], {});\n",
              "          if (!dataTable) return;\n",
              "\n",
              "          const docLinkHtml = 'Like what you see? Visit the ' +\n",
              "            '<a target=\"_blank\" href=https://colab.research.google.com/notebooks/data_table.ipynb>data table notebook</a>'\n",
              "            + ' to learn more about interactive tables.';\n",
              "          element.innerHTML = '';\n",
              "          dataTable['output_type'] = 'display_data';\n",
              "          await google.colab.output.renderOutput(dataTable, element);\n",
              "          const docLink = document.createElement('div');\n",
              "          docLink.innerHTML = docLinkHtml;\n",
              "          element.appendChild(docLink);\n",
              "        }\n",
              "      </script>\n",
              "    </div>\n",
              "  </div>\n",
              "  "
            ]
          },
          "metadata": {},
          "execution_count": 2
        }
      ],
      "source": [
        "#Now, let us load the data\n",
        "df = pd.read_csv('https://bit.ly/2XZK7Bo')\n",
        "df.head()"
      ]
    },
    {
      "cell_type": "code",
      "execution_count": 3,
      "metadata": {
        "colab": {
          "base_uri": "https://localhost:8080/"
        },
        "id": "_cAnOPqXyWyJ",
        "outputId": "81e0d6b2-4e39-4103-b0cc-20614d71239e"
      },
      "outputs": [
        {
          "output_type": "stream",
          "name": "stdout",
          "text": [
            "<class 'pandas.core.frame.DataFrame'>\n",
            "RangeIndex: 10000 entries, 0 to 9999\n",
            "Data columns (total 14 columns):\n",
            " #   Column           Non-Null Count  Dtype  \n",
            "---  ------           --------------  -----  \n",
            " 0   RowNumber        10000 non-null  int64  \n",
            " 1   CustomerId       10000 non-null  int64  \n",
            " 2   Surname          10000 non-null  object \n",
            " 3   CreditScore      10000 non-null  int64  \n",
            " 4   Geography        10000 non-null  object \n",
            " 5   Gender           10000 non-null  object \n",
            " 6   Age              10000 non-null  int64  \n",
            " 7   Tenure           9091 non-null   float64\n",
            " 8   Balance          10000 non-null  float64\n",
            " 9   NumOfProducts    10000 non-null  int64  \n",
            " 10  HasCrCard        10000 non-null  int64  \n",
            " 11  IsActiveMember   10000 non-null  int64  \n",
            " 12  EstimatedSalary  10000 non-null  float64\n",
            " 13  Exited           10000 non-null  int64  \n",
            "dtypes: float64(3), int64(8), object(3)\n",
            "memory usage: 1.1+ MB\n"
          ]
        }
      ],
      "source": [
        "#Let us do some preliminary examination of the data:\n",
        "df.head()\n",
        "df.isna().sum()\n",
        "df.info()"
      ]
    },
    {
      "cell_type": "markdown",
      "metadata": {
        "id": "2yT4pHXcyWyK"
      },
      "source": [
        "Our target is Exited. For our purposes, some of the columns like RowNumber, CustomerId and Surname are not going to be useful features. I will remove them. Apart from that, we need to consider some options for dealing with the null values in the Tenure feature. Since we are going to be using metrics like MSE I think using the mean to impute the missing values should not affect the performance of our models. Then, I will convert it to type int since it's not needed to be a float."
      ]
    },
    {
      "cell_type": "code",
      "execution_count": 4,
      "metadata": {
        "colab": {
          "base_uri": "https://localhost:8080/"
        },
        "id": "ms6-AdQSyWyN",
        "outputId": "85b523bb-9bd7-4b5a-e26f-cbc229395484"
      },
      "outputs": [
        {
          "output_type": "stream",
          "name": "stdout",
          "text": [
            "<class 'pandas.core.frame.DataFrame'>\n",
            "RangeIndex: 10000 entries, 0 to 9999\n",
            "Data columns (total 11 columns):\n",
            " #   Column           Non-Null Count  Dtype  \n",
            "---  ------           --------------  -----  \n",
            " 0   CreditScore      10000 non-null  int64  \n",
            " 1   Geography        10000 non-null  object \n",
            " 2   Gender           10000 non-null  object \n",
            " 3   Age              10000 non-null  int64  \n",
            " 4   Tenure           9091 non-null   float64\n",
            " 5   Balance          10000 non-null  float64\n",
            " 6   NumOfProducts    10000 non-null  int64  \n",
            " 7   HasCrCard        10000 non-null  int64  \n",
            " 8   IsActiveMember   10000 non-null  int64  \n",
            " 9   EstimatedSalary  10000 non-null  float64\n",
            " 10  Exited           10000 non-null  int64  \n",
            "dtypes: float64(3), int64(6), object(2)\n",
            "memory usage: 859.5+ KB\n"
          ]
        }
      ],
      "source": [
        "#Remove RowNum, CusomberID, surname\n",
        "df = df.drop(['RowNumber','CustomerId','Surname'], axis = 1)\n",
        "df.info()\n",
        "\n",
        "#replace missing Tenure with mean score\n",
        "df['Tenure']= df['Tenure'].fillna(df['Tenure'].mean())\n",
        "#change Tenure into Interger\n",
        "df['Tenure'] = df['Tenure'].astype(int)"
      ]
    },
    {
      "cell_type": "code",
      "execution_count": 5,
      "metadata": {
        "colab": {
          "base_uri": "https://localhost:8080/"
        },
        "id": "ctYKSalcyWyQ",
        "outputId": "3f7054b9-711a-4b7e-922f-4da3d0254178"
      },
      "outputs": [
        {
          "output_type": "stream",
          "name": "stdout",
          "text": [
            "<class 'pandas.core.frame.DataFrame'>\n",
            "RangeIndex: 10000 entries, 0 to 9999\n",
            "Data columns (total 11 columns):\n",
            " #   Column           Non-Null Count  Dtype  \n",
            "---  ------           --------------  -----  \n",
            " 0   CreditScore      10000 non-null  int64  \n",
            " 1   Geography        10000 non-null  object \n",
            " 2   Gender           10000 non-null  object \n",
            " 3   Age              10000 non-null  int64  \n",
            " 4   Tenure           10000 non-null  int64  \n",
            " 5   Balance          10000 non-null  float64\n",
            " 6   NumOfProducts    10000 non-null  int64  \n",
            " 7   HasCrCard        10000 non-null  int64  \n",
            " 8   IsActiveMember   10000 non-null  int64  \n",
            " 9   EstimatedSalary  10000 non-null  float64\n",
            " 10  Exited           10000 non-null  int64  \n",
            "dtypes: float64(2), int64(7), object(2)\n",
            "memory usage: 859.5+ KB\n"
          ]
        }
      ],
      "source": [
        "#Quick check to see if the values got filled:\n",
        "df.info()\n",
        "#They are filled, now let's encode categorical variables and normalize the data."
      ]
    },
    {
      "cell_type": "code",
      "execution_count": 6,
      "metadata": {
        "id": "4_kvjpd7yWyR"
      },
      "outputs": [],
      "source": [
        "scaler = StandardScaler() \n",
        "#OHE\n",
        "df = pd.get_dummies(df, drop_first=True)\n",
        "#creating a features dataframe and a target dataframe\n",
        "features = df.drop(columns=['Exited'])\n",
        "target =  df['Exited']\n",
        "#Now, we will split the data into training, testing and validation sets. Of the base dataset,\n",
        "#I will split 20% for testing and 80% for training.\n",
        "features_train, features_test, target_train, target_test = train_test_split(features, target, test_size=0.20, random_state=12345)\n",
        "features_train, features_valid, target_train, target_valid = train_test_split(features_train, target_train, test_size=0.2, random_state=12345 )\n"
      ]
    },
    {
      "cell_type": "code",
      "execution_count": 7,
      "metadata": {
        "colab": {
          "base_uri": "https://localhost:8080/"
        },
        "id": "x6RF7AhFyWyU",
        "outputId": "4a8ec905-8d98-439e-f9bf-b598cce8ff04"
      },
      "outputs": [
        {
          "output_type": "stream",
          "name": "stdout",
          "text": [
            "6400\n",
            "6400\n",
            "2000\n",
            "2000\n",
            "1600\n",
            "1600\n"
          ]
        }
      ],
      "source": [
        "#Let's take a look at the split:\n",
        "print(len(features_train))\n",
        "print(len(target_train))\n",
        "print(len(features_test))\n",
        "print(len(target_test))\n",
        "print(len(features_valid))\n",
        "print(len(target_valid))\n"
      ]
    },
    {
      "cell_type": "markdown",
      "metadata": {
        "id": "a5HEaTJUyWyV"
      },
      "source": [
        "    \n",
        "Ok, data is splitted correctly.\n"
      ]
    },
    {
      "cell_type": "code",
      "execution_count": 8,
      "metadata": {
        "id": "kASnbK_kyWyW"
      },
      "outputs": [],
      "source": [
        "import sys\n",
        "import warnings\n",
        "if not sys.warnoptions:\n",
        "       warnings.simplefilter(\"ignore\")"
      ]
    },
    {
      "cell_type": "code",
      "execution_count": 9,
      "metadata": {
        "id": "3Ry2nxLayWyY"
      },
      "outputs": [],
      "source": [
        "to_normalize = ['CreditScore', 'Age', 'Balance', 'EstimatedSalary', 'Tenure', 'NumOfProducts']\n",
        "scaler = StandardScaler()\n",
        "scaler.fit(features_train[to_normalize])\n",
        "features_train.loc[:,to_normalize] = scaler.transform(features_train[to_normalize])\n",
        "features_valid.loc[:,to_normalize] = scaler.transform(features_valid[to_normalize])\n",
        "features_test.loc[:,to_normalize] = scaler.transform(features_test[to_normalize])\n"
      ]
    },
    {
      "cell_type": "markdown",
      "metadata": {
        "id": "YWJOFQNyyWyY"
      },
      "source": [
        "One hot encoding was required because the categorical variable words don't mean anything to ML models. Allowing the 'inverse' of each data type (for example allowing both male and female coulmns to remain) will damage our outcomes since there will be high correlation between them. Therefore, it makes sense to 'drop first' and only let one of them remain. Similarly, we don't need France, Germany and Spain coulmns since a row not being 1 for Germany *and* Spain implies that it is France. After splitting, I checked to see if the splits make sense, and they do. The sample size is also good. \n",
        "\n",
        "Finally, I decided to normalize the numeric columns since doing so can not hurt, and can greatly help our evaluation metrics."
      ]
    },
    {
      "cell_type": "markdown",
      "metadata": {
        "id": "0_5ZckORyWya"
      },
      "source": [
        "### Examine the balance of classes. Train the model without taking into account the imbalance. Briefly describe your findings."
      ]
    },
    {
      "cell_type": "code",
      "execution_count": 10,
      "metadata": {
        "colab": {
          "base_uri": "https://localhost:8080/"
        },
        "id": "5gSQ9X3pyWyb",
        "outputId": "29db12da-c16f-4420-d010-fefcfe09a635"
      },
      "outputs": [
        {
          "output_type": "stream",
          "name": "stdout",
          "text": [
            "2037\n",
            "7963\n"
          ]
        }
      ],
      "source": [
        "#First, let's look at the class imbalance (if there is any) briefly:\n",
        "print(df[df['Exited'] == 1]['Exited'].count())\n",
        "print(df[df['Exited'] == 0]['Exited'].count())"
      ]
    },
    {
      "cell_type": "markdown",
      "metadata": {
        "id": "IEuirrR9yWyb"
      },
      "source": [
        "\n",
        "    \n",
        "Yes, we have imbalance problem.\n"
      ]
    },
    {
      "cell_type": "markdown",
      "metadata": {
        "id": "S030XG-PyWyt"
      },
      "source": [
        "Clearly, there is an apparent imbalance, almost a 1:4 ratio. Now, let's see how much this affects our model's performance."
      ]
    },
    {
      "cell_type": "code",
      "execution_count": 11,
      "metadata": {
        "colab": {
          "base_uri": "https://localhost:8080/"
        },
        "id": "qtnc3GigyWyv",
        "outputId": "400dc962-a49c-4ab1-8574-179d258ee7ec"
      },
      "outputs": [
        {
          "output_type": "stream",
          "name": "stdout",
          "text": [
            "Accuracy 0.8175\n",
            "f1 score: 0.3145539906103286\n",
            "AUC: 0.7634576873261729\n"
          ]
        }
      ],
      "source": [
        "#Let's pretend like we don't know anything about class imbalance:\n",
        "LogRegModImb = LogisticRegression(solver='liblinear', random_state=12345)\n",
        "LogRegModImb.fit(features_train,target_train)\n",
        "print('Accuracy', LogRegModImb.score(features_valid, target_valid))\n",
        "print('f1 score:' ,f1_score(target_valid, LogRegModImb.predict(features_valid)))\n",
        "print('AUC:', roc_auc_score(target_valid, LogRegModImb.predict_proba(features_valid)[:,1]))"
      ]
    },
    {
      "cell_type": "markdown",
      "metadata": {
        "id": "b9h5paM_yWyx"
      },
      "source": [
        "We have a accuracy of 0.81, f1 score of 0.31, and AUC of 0.76 when we do not account for imbalance and use logistic regression. We don't need to check Random Forest and Decision Tree because if the imbalance affects the results of Logistic Regression, it will naturally affect the results of Random Forest and Decision Tree since they do not perform well on imbalanced data sets.\n"
      ]
    },
    {
      "cell_type": "code",
      "execution_count": 12,
      "metadata": {
        "colab": {
          "base_uri": "https://localhost:8080/"
        },
        "id": "0wfjhacMyWyy",
        "outputId": "50a46b4c-d941-4419-f16b-c410556c44ae"
      },
      "outputs": [
        {
          "output_type": "stream",
          "name": "stdout",
          "text": [
            "Accuracy 0.70875\n",
            "f1 score: 0.46924829157175396\n",
            "AUC: 0.7666587784453079\n"
          ]
        }
      ],
      "source": [
        "#Now, let's balance the data and see how the logistic regression improves\n",
        "LogRegModBal = LogisticRegression(solver='liblinear', random_state=12345, class_weight='balanced')\n",
        "LogRegModBal.fit(features_train,target_train)\n",
        "print('Accuracy', LogRegModBal.score(features_valid, target_valid))\n",
        "print('f1 score:' ,f1_score(target_valid, LogRegModBal.predict(features_valid)))\n",
        "print('AUC:',roc_auc_score(target_valid, LogRegModBal.predict_proba(features_valid)[:,1]))"
      ]
    },
    {
      "cell_type": "markdown",
      "metadata": {
        "id": "xc4Cq-BTyWy0"
      },
      "source": [
        "It's great that I fixed a random_state.\n"
      ]
    },
    {
      "cell_type": "markdown",
      "metadata": {
        "id": "OplFhsauyWy0"
      },
      "source": [
        "We have a accuracy of 0.70, f1 score of 0.47, and AUC of 0.77 when we do account for imbalance and use logistic regression. The accuracy has gone down from balancing but the f1 score has improved.\n",
        "\n",
        "Now that we know the impact of balancing, let's proceed with some strategies to account for that.\n",
        "\n",
        "### Improve the quality of the model. Make sure you use at least two approaches to fixing class imbalance. Use the training set to pick the best parameters. Train different models on training and validation sets. Find the best one. Briefly describe your findings.\n",
        "\n",
        "#### Let's try upsampling first."
      ]
    },
    {
      "cell_type": "code",
      "execution_count": 13,
      "metadata": {
        "colab": {
          "base_uri": "https://localhost:8080/"
        },
        "id": "j2Zdz_aYyWy1",
        "outputId": "a60b0967-c71f-4dba-dc2e-d8c52713c097"
      },
      "outputs": [
        {
          "output_type": "stream",
          "name": "stdout",
          "text": [
            "Accuracy 0.454375\n",
            "f1 score: 0.39332870048644897\n",
            "AUC: 0.7678598237618673\n"
          ]
        }
      ],
      "source": [
        "#Upsampling function from exercise\n",
        "def upsample(features, target, repeat):\n",
        "    features_zeros = features[target == 0]\n",
        "    features_ones = features[target == 1]\n",
        "    target_zeros = target[target == 0]\n",
        "    target_ones = target[target == 1]\n",
        "\n",
        "    features_upsampled = pd.concat([features_zeros] + [features_ones] * repeat)\n",
        "    target_upsampled = pd.concat([target_zeros] + [target_ones] * repeat)\n",
        "    \n",
        "    features_upsampled, target_upsampled = shuffle(\n",
        "        features_upsampled, target_upsampled, random_state=12345)\n",
        "    \n",
        "    return features_upsampled, target_upsampled\n",
        "\n",
        "features_upsampled, target_upsampled = upsample(features_train, target_train, 10)\n",
        "\n",
        "upsampled_LogReg_model =LogisticRegression(random_state=12345,solver='liblinear')\n",
        "upsampled_LogReg_model.fit(features_upsampled, target_upsampled)\n",
        "upsampled_LogReg_predicted_valid = upsampled_LogReg_model.predict(features_valid)\n",
        "\n",
        "\n",
        "\n",
        "\n",
        "print('Accuracy', upsampled_LogReg_model.score(features_valid, target_valid))\n",
        "print('f1 score:' ,f1_score(target_valid, upsampled_LogReg_predicted_valid))\n",
        "print('AUC:',roc_auc_score(target_valid, upsampled_LogReg_model.predict_proba(features_valid)[:,1]))"
      ]
    },
    {
      "cell_type": "markdown",
      "metadata": {
        "id": "N7f3K_v3yWy2"
      },
      "source": [
        "  \n",
        "Ok, upsampling was done correctly.\n"
      ]
    },
    {
      "cell_type": "markdown",
      "metadata": {
        "id": "9Mv6KXdgyWy2"
      },
      "source": [
        "Only upsampling makes our f1 score 0.393. This isn't as good as the in built balanced feature of the Logisitic regression model. \n",
        "\n",
        "#### Let's try downsampling now."
      ]
    },
    {
      "cell_type": "code",
      "execution_count": 14,
      "metadata": {
        "colab": {
          "base_uri": "https://localhost:8080/"
        },
        "id": "ebWxdRTcyWy3",
        "outputId": "6e6fd279-c080-49b0-faaf-5ba448b4a0fd"
      },
      "outputs": [
        {
          "output_type": "stream",
          "name": "stdout",
          "text": [
            "F1: 0.39145416953824946\n",
            "Accuracy: 0.448125\n",
            "AUC-ROC: 0.7647757836693462\n"
          ]
        }
      ],
      "source": [
        "#Downsampling function from exercise\n",
        "def downsample(features, target, fraction):\n",
        "    features_zeros = features[target == 0]\n",
        "    features_ones = features[target == 1]\n",
        "    target_zeros = target[target == 0]\n",
        "    target_ones = target[target == 1]\n",
        "\n",
        "    features_downsampled = pd.concat(\n",
        "        [features_zeros.sample(frac=fraction, random_state=12345)] + [features_ones])\n",
        "    target_downsampled = pd.concat(\n",
        "        [target_zeros.sample(frac=fraction, random_state=12345)] + [target_ones])\n",
        "    \n",
        "    features_downsampled, target_downsampled = shuffle(\n",
        "        features_downsampled, target_downsampled, random_state=12345)\n",
        "    \n",
        "    return features_downsampled, target_downsampled\n",
        "\n",
        "features_downsampled, target_downsampled = downsample(features_train, target_train, 0.1)\n",
        "\n",
        "down_LogReg_model =LogisticRegression(random_state=12345,solver='liblinear')\n",
        "down_LogReg_model.fit(features_downsampled, target_downsampled)\n",
        "down_LogReg_predicted_valid = down_LogReg_model.predict(features_valid)\n",
        "\n",
        "print(\"F1:\", f1_score(target_valid, down_LogReg_predicted_valid))\n",
        "print('Accuracy:', down_LogReg_model.score(features_valid, target_valid))\n",
        "print(\"AUC-ROC:\", roc_auc_score(target_valid, down_LogReg_model.predict_proba(features_valid)[:,1]))\n"
      ]
    },
    {
      "cell_type": "markdown",
      "metadata": {
        "id": "rNl2PNauyWy6"
      },
      "source": [
        "Only downsampling makes our f1 score 0.391. This isn't as good as the in built balanced feature of the Logisitic regression model and is almost the same as upsampling.\n",
        "\n",
        "#### Let's try using decision trees."
      ]
    },
    {
      "cell_type": "code",
      "execution_count": 15,
      "metadata": {
        "id": "apintmXuyWy8"
      },
      "outputs": [],
      "source": [
        "import sys\n",
        "import warnings\n",
        "if not sys.warnoptions:\n",
        "       warnings.simplefilter(\"ignore\")"
      ]
    },
    {
      "cell_type": "code",
      "execution_count": 16,
      "metadata": {
        "colab": {
          "base_uri": "https://localhost:8080/"
        },
        "id": "56WIl_LuyWy9",
        "outputId": "b9cc62b9-4657-4c34-dc0d-50033f6b32a3"
      },
      "outputs": [
        {
          "output_type": "stream",
          "name": "stdout",
          "text": [
            "DecisionTreeClassifier(max_depth=6, random_state=12345)\n",
            "F1: 0.5176991150442477\n",
            "Accuracy: 0.86375\n",
            "AUC-ROC: 0.8132692606191999\n"
          ]
        }
      ],
      "source": [
        "depth_param = {'max_depth':range(1,25)}\n",
        "DecTreeMod = DecisionTreeClassifier(random_state=12345)\n",
        "DecTreeModOpt = GridSearchCV(DecTreeMod,depth_param)\n",
        "DecTreeModOpt.fit(features_train, target_train)\n",
        "print(DecTreeModOpt.best_estimator_)\n",
        "DecTreeModOpt_predicted_valid = DecTreeModOpt.predict(features_valid)\n",
        "print(\"F1:\", f1_score(target_valid, DecTreeModOpt_predicted_valid))\n",
        "print('Accuracy:', DecTreeModOpt.score(features_valid, target_valid))\n",
        "print(\"AUC-ROC:\", roc_auc_score(target_valid, DecTreeModOpt.predict_proba(features_valid)[:,1]))\n"
      ]
    },
    {
      "cell_type": "markdown",
      "metadata": {
        "id": "W5WDPkhIyWy-"
      },
      "source": [
        "Just from using decision trees with optimized hyper parameters, our f1 score 0.51. This is better than the in built balanced feature of the Logisitic regression model, but not by much. \n",
        "\n",
        "#### Let's try using Random Forests."
      ]
    },
    {
      "cell_type": "code",
      "execution_count": 17,
      "metadata": {
        "colab": {
          "base_uri": "https://localhost:8080/"
        },
        "id": "No--2W2iyWy_",
        "outputId": "cb4eaa87-96d1-47e7-d447-50cf78cf0fcd"
      },
      "outputs": [
        {
          "output_type": "stream",
          "name": "stdout",
          "text": [
            "RandomForestClassifier(max_depth=8, n_estimators=40, random_state=12345)\n",
            "F1: 0.5431578947368422\n",
            "Accuracy 0.864375\n",
            "AUC-ROC: 0.8501874088719589\n"
          ]
        }
      ],
      "source": [
        "depth_param = {'max_depth':range(1,10), 'n_estimators':range(1,50)}\n",
        "RandForestMod = RandomForestClassifier(random_state=12345)\n",
        "RandForestOpt = GridSearchCV(RandForestMod,depth_param)\n",
        "RandForestOpt.fit(features_train, target_train)\n",
        "print(RandForestOpt.best_estimator_)\n",
        "RandForestOpt_predicted_valid = RandForestOpt.predict(features_valid)\n",
        "print(\"F1:\", f1_score(target_valid, RandForestOpt_predicted_valid))\n",
        "print('Accuracy', RandForestOpt.score(features_valid, target_valid))\n",
        "print(\"AUC-ROC:\", roc_auc_score(target_valid, RandForestOpt.predict_proba(features_valid)[:,1]))\n",
        "\n"
      ]
    },
    {
      "cell_type": "markdown",
      "metadata": {
        "id": "dK2OlkOoyWzA"
      },
      "source": [
        "Random forests gives us a f1 score of 0.53, although it took a very long time to run this chunk of code. If run time is a priority, the parameter space needs to be greatly reduced. However, we have come across an issue. We need an f1 score of at least 0.59, and we have already done an exhaustive search over a huge parameter space. Let us try to keep one parameter constant and increase the range of the other parameter to see if that can help us improve our score. For the above model, max_depth of 8 gave us the best result. Let's keep that constant and increase the range of n_estimators and try again. Most importantly, let us add the argument: 'class weight = balanced' since simply increasing the parameter space alone is most likely not going to increase our f1 score by so much.\n",
        "\n",
        "#### Random forest has the best performance as per the f1 score"
      ]
    },
    {
      "cell_type": "code",
      "execution_count": 18,
      "metadata": {
        "colab": {
          "base_uri": "https://localhost:8080/"
        },
        "id": "zYtHm33xyWzB",
        "outputId": "4aefddc9-578b-41c5-8b30-40c5e5b62010"
      },
      "outputs": [
        {
          "output_type": "stream",
          "name": "stdout",
          "text": [
            "RandomForestClassifier(class_weight='balanced', max_depth=8, n_estimators=190,\n",
            "                       random_state=12345)\n",
            "F1: 0.6049204052098408\n",
            "Accuracy: 0.829375\n",
            "AUC-ROC: 0.8607449025550203\n"
          ]
        }
      ],
      "source": [
        "depth_param = {'n_estimators':range(1,200)}\n",
        "RandForestMod = RandomForestClassifier(random_state=12345, max_depth = 8,class_weight='balanced')\n",
        "RandForestOpt = GridSearchCV(RandForestMod, depth_param)\n",
        "RandForestOpt.fit(features_train, target_train)\n",
        "print(RandForestOpt.best_estimator_)\n",
        "RandForestOpt_predicted_valid = RandForestOpt.predict(features_valid)\n",
        "print(\"F1:\", f1_score(target_valid, RandForestOpt_predicted_valid))\n",
        "print('Accuracy:', RandForestOpt.score(features_valid, target_valid))\n",
        "print(\"AUC-ROC:\", roc_auc_score(target_valid, RandForestOpt.predict_proba(features_valid)[:,1]))\n"
      ]
    },
    {
      "cell_type": "markdown",
      "metadata": {
        "id": "CKvNLJCCyWzB"
      },
      "source": [
        "We get a f1 score of 0.604 and the n_estimators we need is 149. Finally, we have achieved an acceptable number gives us enough confidence to take our model to the testing data. Max depth is 8 since we specified that.\n",
        "\n",
        "### Perform the final testing."
      ]
    },
    {
      "cell_type": "code",
      "execution_count": 19,
      "metadata": {
        "colab": {
          "base_uri": "https://localhost:8080/"
        },
        "id": "jTOtgjleyWzC",
        "outputId": "d41e14a0-a12d-460b-f367-757d4686c82a"
      },
      "outputs": [
        {
          "output_type": "stream",
          "name": "stdout",
          "text": [
            "F1: 0.6481876332622601\n",
            "AUC-ROC: 0.869209776810373\n",
            "Accuracy: 0.829375\n"
          ]
        }
      ],
      "source": [
        "RandForestOpt_predicted_test = RandForestOpt.predict(features_test)\n",
        "print(\"F1:\", f1_score(target_test, RandForestOpt_predicted_test))\n",
        "print(\"AUC-ROC:\", roc_auc_score(target_test, RandForestOpt.predict_proba(features_test)[:,1]))\n",
        "print('Accuracy:', RandForestOpt.score(features_valid, target_valid))"
      ]
    },
    {
      "cell_type": "markdown",
      "metadata": {
        "id": "W_GE7nMuyWzD"
      },
      "source": [
        "For the test dataset, the F1 score is 0.64 and the AUC-ROC score is 0.87. Both these metrics signify good quality and meet the expectations of the assignment.\n",
        "\n",
        "## Conclusions\n",
        "\n",
        "Let's plot the AUC-ROC curve."
      ]
    },
    {
      "cell_type": "markdown",
      "metadata": {
        "id": "gpS9UTLhyWzD"
      },
      "source": [
        "   \n",
        "Could you please describe the best model in the conclusion (hyperparameters and so on)?"
      ]
    },
    {
      "cell_type": "code",
      "execution_count": 20,
      "metadata": {
        "colab": {
          "base_uri": "https://localhost:8080/",
          "height": 295
        },
        "id": "eVSldDmzyWzE",
        "outputId": "cc4cad2a-543b-4357-c240-6fb2bd3c9403"
      },
      "outputs": [
        {
          "output_type": "display_data",
          "data": {
            "text/plain": [
              "<Figure size 432x288 with 1 Axes>"
            ],
            "image/png": "[encoded data removed]"
          },
          "metadata": {
            "needs_background": "light"
          }
        }
      ],
      "source": [
        "probabilities_valid = RandForestOpt.predict_proba(features_valid)\n",
        "probabilities_one_valid = probabilities_valid[:, 1]\n",
        "\n",
        "fpr, tpr, thresholds = roc_curve(target_valid, probabilities_one_valid)\n",
        "\n",
        "plt.figure()\n",
        "plt.plot(fpr, tpr)\n",
        "plt.plot([0, 1], [0, 1], linestyle='--')\n",
        "plt.xlim([0.0, 1.0])\n",
        "plt.ylim([0.0, 1.0])\n",
        "plt.xlabel('False Positive Rate')\n",
        "plt.ylabel('True Positive Rate')\n",
        "plt.title('ROC curve')\n",
        "plt.show()"
      ]
    },
    {
      "cell_type": "markdown",
      "metadata": {
        "id": "nMhtOkEUyWzF"
      },
      "source": [
        "\n",
        "It's great that you didn't forget the axis labels and the title to the graph."
      ]
    },
    {
      "cell_type": "markdown",
      "metadata": {
        "id": "IS5ORL8OyWzF"
      },
      "source": [
        "### Area under True Positive Rate Curve\n",
        "We see a beautiful deviation from the random model (orange line) that signifies that our model performs that much better than someone just working by chance. This is validated by the AUC we calculated.\n",
        "\n",
        "#### Let's plot the precision-recall curve"
      ]
    },
    {
      "cell_type": "code",
      "execution_count": 21,
      "metadata": {
        "colab": {
          "base_uri": "https://localhost:8080/",
          "height": 404
        },
        "id": "TQqCZxF1yWzF",
        "outputId": "0fe31782-ac2c-4d9f-c732-1b630484eece"
      },
      "outputs": [
        {
          "output_type": "display_data",
          "data": {
            "text/plain": [
              "<Figure size 432x432 with 1 Axes>"
            ],
            "image/png": "[encoded data removed]"
          },
          "metadata": {
            "needs_background": "light"
          }
        }
      ],
      "source": [
        "precision, recall, thresholds = precision_recall_curve(target_valid, probabilities_valid[:, 1])\n",
        "\n",
        "plt.figure(figsize=(6, 6))\n",
        "plt.step(recall, precision, where='post')\n",
        "plt.xlabel('Recall')\n",
        "plt.ylabel('Precision')\n",
        "plt.ylim([0.0, 1.05])\n",
        "plt.xlim([0.0, 1.0])\n",
        "plt.title('Precision-Recall Curve')\n",
        "plt.show() "
      ]
    },
    {
      "cell_type": "markdown",
      "metadata": {
        "id": "SNvqKzM7yWzG"
      },
      "source": [
        "The precision-recall curve is very high, which also signifies a high performance of the model. This, along with the ROC-AUC and F1 all signifiy that we have satisfactorily provided the company with a decent model to work with."
      ]
    },
    {
      "cell_type": "markdown",
      "metadata": {
        "id": "1xY8jf9KyWzG"
      },
      "source": [
        "## The best model\n",
        "\n",
        "The best model is a Random Forest Classifier. Bootstrap is set to true and the class_weight parameter is set to **' balanced '**. Setting it to balanced is very important otherwise the performance expectations are not met. \n",
        "\n",
        "The hyperparameters max_depth is set to 8 and n_estimators is set to 149. A  random_state = 12345 will give you the exact results I produced above.\n",
        "\n",
        "For the test dataset, the F1 score is 0.64 and the AUC-ROC score is 0.87. Both these metrics signify good quality and meet the expectations of the assignment.\n",
        "\n"
      ]
    }
  ],
  "metadata": {
    "kernelspec": {
      "display_name": "Python 3",
      "language": "python",
      "name": "python3"
    },
    "language_info": {
      "codemirror_mode": {
        "name": "ipython",
        "version": 3
      },
      "file_extension": ".py",
      "mimetype": "text/x-python",
      "name": "python",
      "nbconvert_exporter": "python",
      "pygments_lexer": "ipython3",
      "version": "3.7.6"
    },
    "colab": {
      "name": "Week 5 Bank_analytics.ipynb",
      "provenance": [],
      "collapsed_sections": [],
      "include_colab_link": true
    }
  },
  "nbformat": 4,
  "nbformat_minor": 0
}